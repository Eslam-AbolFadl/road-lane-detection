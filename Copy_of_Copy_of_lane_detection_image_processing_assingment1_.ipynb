{
  "nbformat": 4,
  "nbformat_minor": 0,
  "metadata": {
    "colab": {
      "name": "Copy of Copy of lane detection- image processing assingment1 .ipynb",
      "provenance": [],
      "collapsed_sections": [],
      "mount_file_id": "1XqvB1YXBgQbaOMVyvIVOuGeKw99RC_Sk",
      "authorship_tag": "ABX9TyP9PiNAhmQBuJKt8ZLuWqMv",
      "include_colab_link": true
    },
    "kernelspec": {
      "name": "python3",
      "display_name": "Python 3"
    },
    "language_info": {
      "name": "python"
    }
  },
  "cells": [
    {
      "cell_type": "markdown",
      "metadata": {
        "id": "view-in-github",
        "colab_type": "text"
      },
      "source": [
        "<a href=\"https://colab.research.google.com/github/Eslam-AbolFadl/road-lane-detection/blob/main/Copy_of_Copy_of_lane_detection_image_processing_assingment1_.ipynb\" target=\"_parent\"><img src=\"https://colab.research.google.com/assets/colab-badge.svg\" alt=\"Open In Colab\"/></a>"
      ]
    },
    {
      "cell_type": "code",
      "execution_count": 1,
      "metadata": {
        "id": "GrPIxpdPuHFC",
        "colab": {
          "base_uri": "https://localhost:8080/"
        },
        "outputId": "b22f4a42-9e95-4bba-ad41-e0d346087cd2"
      },
      "outputs": [
        {
          "output_type": "stream",
          "name": "stdout",
          "text": [
            "Imageio: 'ffmpeg-linux64-v3.3.1' was not found on your computer; downloading it now.\n",
            "Try 1. Download from https://github.com/imageio/imageio-binaries/raw/master/ffmpeg/ffmpeg-linux64-v3.3.1 (43.8 MB)\n",
            "Downloading: 8192/45929032 bytes (0.0%)\b\b\b\b\b\b\b\b\b\b\b\b\b\b\b\b\b\b\b\b\b\b\b\b\b\b2293760/45929032 bytes (5.0%)\b\b\b\b\b\b\b\b\b\b\b\b\b\b\b\b\b\b\b\b\b\b\b\b\b\b\b\b\b5423104/45929032 bytes (11.8%)\b\b\b\b\b\b\b\b\b\b\b\b\b\b\b\b\b\b\b\b\b\b\b\b\b\b\b\b\b\b8437760/45929032 bytes (18.4%)\b\b\b\b\b\b\b\b\b\b\b\b\b\b\b\b\b\b\b\b\b\b\b\b\b\b\b\b\b\b11436032/45929032 bytes (24.9%)\b\b\b\b\b\b\b\b\b\b\b\b\b\b\b\b\b\b\b\b\b\b\b\b\b\b\b\b\b\b\b14598144/45929032 bytes (31.8%)\b\b\b\b\b\b\b\b\b\b\b\b\b\b\b\b\b\b\b\b\b\b\b\b\b\b\b\b\b\b\b17924096/45929032 bytes (39.0%)\b\b\b\b\b\b\b\b\b\b\b\b\b\b\b\b\b\b\b\b\b\b\b\b\b\b\b\b\b\b\b21004288/45929032 bytes (45.7%)\b\b\b\b\b\b\b\b\b\b\b\b\b\b\b\b\b\b\b\b\b\b\b\b\b\b\b\b\b\b\b24125440/45929032 bytes (52.5%)\b\b\b\b\b\b\b\b\b\b\b\b\b\b\b\b\b\b\b\b\b\b\b\b\b\b\b\b\b\b\b27115520/45929032 bytes (59.0%)\b\b\b\b\b\b\b\b\b\b\b\b\b\b\b\b\b\b\b\b\b\b\b\b\b\b\b\b\b\b\b30474240/45929032 bytes (66.4%)\b\b\b\b\b\b\b\b\b\b\b\b\b\b\b\b\b\b\b\b\b\b\b\b\b\b\b\b\b\b\b33751040/45929032 bytes (73.5%)\b\b\b\b\b\b\b\b\b\b\b\b\b\b\b\b\b\b\b\b\b\b\b\b\b\b\b\b\b\b\b36765696/45929032 bytes (80.0%)\b\b\b\b\b\b\b\b\b\b\b\b\b\b\b\b\b\b\b\b\b\b\b\b\b\b\b\b\b\b\b40075264/45929032 bytes (87.3%)\b\b\b\b\b\b\b\b\b\b\b\b\b\b\b\b\b\b\b\b\b\b\b\b\b\b\b\b\b\b\b43089920/45929032 bytes (93.8%)\b\b\b\b\b\b\b\b\b\b\b\b\b\b\b\b\b\b\b\b\b\b\b\b\b\b\b\b\b\b\b45929032/45929032 bytes (100.0%)\n",
            "  Done\n",
            "File saved as /root/.imageio/ffmpeg/ffmpeg-linux64-v3.3.1.\n"
          ]
        }
      ],
      "source": [
        "import numpy as np\n",
        "import cv2\n",
        "import matplotlib.pyplot as plt\n",
        "import matplotlib.image  as mpimg\n",
        "from matplotlib.patches import Polygon\n",
        "from IPython.display import HTML\n",
        "from moviepy.editor import VideoFileClip\n",
        "import glob\n",
        "import pickle\n",
        "%matplotlib inline\n"
      ]
    },
    {
      "cell_type": "code",
      "source": [
        "from google.colab import drive\n",
        "drive.mount('/content/drive')"
      ],
      "metadata": {
        "id": "OFXzpScExjL-",
        "colab": {
          "base_uri": "https://localhost:8080/"
        },
        "outputId": "7a936320-001b-47f5-d14f-22839e72e64c"
      },
      "execution_count": 3,
      "outputs": [
        {
          "output_type": "stream",
          "name": "stdout",
          "text": [
            "Mounted at /content/drive\n"
          ]
        }
      ]
    },
    {
      "cell_type": "code",
      "source": [
        "img1=mpimg.imread('/content/drive/MyDrive/Project_data/test_images/straight_lines1.jpg')\n",
        "plt.imshow(img1)"
      ],
      "metadata": {
        "id": "yO-dm3XNvGqj"
      },
      "execution_count": null,
      "outputs": []
    },
    {
      "cell_type": "code",
      "source": [
        "def calibrate():\n",
        "    \"\"\"\n",
        "    This function is used to calibrate camera from images of chessboard \n",
        "    captured from a camera for which camera matrix and distortion \n",
        "    coefficients are to be calculated \n",
        "    \"\"\"\n",
        "    # Create object points (0 0 0) ... (8 5 0)\n",
        "    objp = np.zeros((9*6, 3), np.float32) \n",
        "    \n",
        "    # assign grid points to x and y keeping z as zero\n",
        "    objp[:, :2] = np.mgrid[0:9, 0:6].T.reshape(-1, 2)\n",
        "\n",
        "    # Stores all object points & img points from all images\n",
        "    objpoints = []\n",
        "    imgpoints = []\n",
        "\n",
        "    # Get directory for all calibration images\n",
        "    images = glob.glob('/content/drive/MyDrive/Project_data/camera_cal/calibration*.jpg')\n",
        "\n",
        "    for indx, fname in enumerate(images):\n",
        "        \n",
        "        img = cv2.imread(fname)\n",
        "        \n",
        "        # Converting to grayclae - findChessboardCorners expects graysclae image\n",
        "        gray = cv2.cvtColor(img, cv2.COLOR_BGR2GRAY)\n",
        "        \n",
        "        # Find inner corners of chess baord\n",
        "        ret, corners = cv2.findChessboardCorners(gray, (9, 6), None)\n",
        "        \n",
        "        if ret == True:\n",
        "            objpoints.append(objp)\n",
        "            imgpoints.append(corners)\n",
        "            \n",
        "    img_size = (img.shape[1], img.shape[0])\n",
        "\n",
        "    # Calibrate camera\n",
        "    ret, mtx, dist, rvecs, tvecs = cv2.calibrateCamera(objpoints, imgpoints, img_size, None, None)\n",
        "\n",
        "    # Save camera matrix and distortion coefficient to pickle file\n",
        "    \n",
        "    calibration_param = {}\n",
        "    calibration_param['mtx'] = mtx\n",
        "    calibration_param['dist'] = dist\n",
        "    pickle.dump( calibration_param, open('/content/drive/MyDrive/Project_data/camera_cal/calibration_pickle.pickle', 'wb') )"
      ],
      "metadata": {
        "id": "j05Bpz-jheC2"
      },
      "execution_count": null,
      "outputs": []
    },
    {
      "cell_type": "code",
      "source": [
        "calibrate()"
      ],
      "metadata": {
        "id": "fMvdQLD5iHb3"
      },
      "execution_count": null,
      "outputs": []
    },
    {
      "cell_type": "code",
      "source": [
        "def undistort_img(img, cal_dir = '/content/drive/MyDrive/Project_data/camera_cal/calibration_pickle.pickle'):\n",
        "    \"\"\"\n",
        "    'img' is the input image with distortion\n",
        "    'cal_dir' = path to saved camera matrix and distortion coefficients\n",
        "    given thses two inputs thia function undistorts the image\n",
        "    \"\"\"\n",
        "    \n",
        "    # Read saved file\n",
        "    with open(cal_dir, mode = 'rb') as f:\n",
        "        file = pickle.load(f)\n",
        "        \n",
        "    mtx = file['mtx'] # camera matrix\n",
        "    dist = file['dist'] # Distortion coefficients\n",
        "    \n",
        "    undistorted_img = cv2.undistort(img, mtx, dist, None, mtx)\n",
        "    \n",
        "    return undistorted_img"
      ],
      "metadata": {
        "id": "7rvHbPbEhz18"
      },
      "execution_count": null,
      "outputs": []
    },
    {
      "cell_type": "code",
      "source": [
        "img = cv2.imread('/content/drive/MyDrive/Project_data/camera_cal/calibration1.jpg')\n",
        "undistorted_img = undistort_img(img)\n",
        "\n",
        "f, (ax1, ax2) = plt.subplots(1, 2, figsize = (20, 10))\n",
        "\n",
        "ax1.imshow(img)\n",
        "ax1.set_title('Original image', fontsize = 15)\n",
        "\n",
        "ax2.imshow(undistorted_img)\n",
        "ax2.set_title('Undistorted image', fontsize = 15)"
      ],
      "metadata": {
        "id": "rg2VKRALiFzR"
      },
      "execution_count": null,
      "outputs": []
    },
    {
      "cell_type": "code",
      "source": [
        "def plt_images(orig_image, orig_title, processed_image, processed_title, cmap='gray'):\n",
        "    # Visualize undirstorsion\n",
        "    f, (ax1, ax2) = plt.subplots(1, 2, figsize=(25, 10))\n",
        "    ax1.set_title(orig_title, fontsize=30)\n",
        "    ax1.imshow(orig_image)\n",
        "    ax2.set_title(processed_title, fontsize=30)\n",
        "    ax2.imshow(processed_image, cmap='gray')\n",
        "    plt.subplots_adjust(left=0., right=1, top=0.9, bottom=0.)"
      ],
      "metadata": {
        "id": "0wxcqqGwfJdk"
      },
      "execution_count": null,
      "outputs": []
    },
    {
      "cell_type": "code",
      "source": [
        "undist= undistort_img(img1)\n",
        "gray = cv2.cvtColor(undist, cv2.COLOR_RGB2GRAY)\n",
        "height, width = gray.shape"
      ],
      "metadata": {
        "id": "Ws-9t05Nvycy"
      },
      "execution_count": null,
      "outputs": []
    },
    {
      "cell_type": "code",
      "source": [
        "# Define a function that takes an image, gradient orientation,\n",
        "# and threshold min / max values.\n",
        "def abs_sobel_thresh(gray, orient='x', thresh=(0, 255)):\n",
        "    # Apply x or y gradient with the OpenCV Sobel() function\n",
        "    # and take the absolute value\n",
        "    if orient == 'x':\n",
        "        abs_sobel = np.absolute(cv2.Sobel(gray, cv2.CV_64F, 1, 0))\n",
        "    if orient == 'y':\n",
        "        abs_sobel = np.absolute(cv2.Sobel(gray, cv2.CV_64F, 0, 1))\n",
        "    # Rescale back to 8 bit integer\n",
        "    scaled_sobel = np.uint8(255*abs_sobel/np.max(abs_sobel))\n",
        "    # Create a copy and apply the threshold\n",
        "    binary_output = np.zeros_like(scaled_sobel)\n",
        "    binary_output[(scaled_sobel >= thresh[0]) & (scaled_sobel <= thresh[1])] = 1\n",
        "    sobel_mask = binary_output\n",
        "    # Return the result\n",
        "    return sobel_mask\n",
        "\n",
        "\n",
        "# Run Sobel function in \"x\"\n",
        "grad_x = abs_sobel_thresh(gray, 'x', thresh=(30, 100))\n",
        "\n",
        "# Plot the result\n",
        "plt_images(img1, 'Source image', grad_x, 'Thresholded gradient - X orientation')\n",
        "\n",
        "# Run Sobel function in \"y\"\n",
        "grad_y = abs_sobel_thresh(gray, 'y', thresh=(30, 100))\n",
        "\n",
        "# Plot the result\n",
        "plt_images(img1, 'Source image', grad_y, 'Thresholded gradient- Y orientation')"
      ],
      "metadata": {
        "id": "1eH6p3tPerEO"
      },
      "execution_count": null,
      "outputs": []
    },
    {
      "cell_type": "code",
      "source": [
        "# Define a function to return the magnitude of the gradient\n",
        "# for a given sobel kernel size and threshold values\n",
        "def mag_thresh(gray, sobel_kernel=3, mag_thresh=(0, 255)):\n",
        "    # Take both Sobel x and y gradients\n",
        "    sobelx = cv2.Sobel(gray, cv2.CV_64F, 1, 0, ksize=sobel_kernel)\n",
        "    sobely = cv2.Sobel(gray, cv2.CV_64F, 0, 1, ksize=sobel_kernel)\n",
        "    # Calculate the gradient magnitude\n",
        "    gradmag = np.sqrt(sobelx**2 + sobely**2)\n",
        "    # Rescale to 8 bit\n",
        "    scale_factor = np.max(gradmag)/255 \n",
        "    gradmag = (gradmag/scale_factor).astype(np.uint8) \n",
        "    # Create a binary image of ones where threshold is met, zeros otherwise\n",
        "    binary_output = np.zeros_like(gradmag)\n",
        "    binary_output[(gradmag >= mag_thresh[0]) & (gradmag <= mag_thresh[1])] = 1\n",
        "    mag_mask = binary_output\n",
        "    # Return the binary image\n",
        "    return mag_mask\n",
        "\n",
        "# Run the function\n",
        "mag_binary = mag_thresh(gray, sobel_kernel=3, mag_thresh=(70, 100))\n",
        "\n",
        "# Plot the result\n",
        "plt_images(img1, 'Source image', mag_binary, 'Thresholded magnitude')"
      ],
      "metadata": {
        "id": "rF8aYxCQx1G0"
      },
      "execution_count": null,
      "outputs": []
    },
    {
      "cell_type": "code",
      "source": [
        "# Define a function that applies Sobel x and y, \n",
        "# then computes the direction of the gradient\n",
        "# and applies a threshold.\n",
        "# Define a function to threshold an image for a given range and Sobel kernel\n",
        "def dir_threshold(gray, sobel_kernel=3, thresh=(0, np.pi/2)):\n",
        "    # Grayscale\n",
        "    #gray = cv2.cvtColor(img, cv2.COLOR_RGB2GRAY)\n",
        "    # Calculate the x and y gradients\n",
        "    sobelx = cv2.Sobel(gray, cv2.CV_64F, 1, 0, ksize=sobel_kernel)\n",
        "    sobely = cv2.Sobel(gray, cv2.CV_64F, 0, 1, ksize=sobel_kernel)\n",
        "    # Take the absolute value of the gradient direction, \n",
        "    # apply a threshold, and create a binary image result\n",
        "    absgraddir = np.arctan2(np.absolute(sobely), np.absolute(sobelx))\n",
        "    binary_output =  np.zeros_like(absgraddir)\n",
        "    binary_output[(absgraddir >= thresh[0]) & (absgraddir <= thresh[1])] = 1\n",
        "    dir_mask = binary_output\n",
        "    # Return the binary image\n",
        "    return dir_mask\n",
        "\n",
        "# Run the function\n",
        "dir_binary = dir_threshold(gray, sobel_kernel=3, thresh=(np.pi/5, np.pi/2))\n",
        "\n",
        "# Plot the result\n",
        "plt_images(img1, 'Source image', dir_binary, 'Thresholded gradient direction')"
      ],
      "metadata": {
        "id": "XzY-XCcjyMCu"
      },
      "execution_count": null,
      "outputs": []
    },
    {
      "cell_type": "code",
      "source": [
        "def combine_thresh(img):\n",
        "    \n",
        "    \n",
        "    undist=undistort_img(img)\n",
        "    # Convert to grayscale\n",
        "    gray = cv2.cvtColor(undist, cv2.COLOR_RGB2GRAY)\n",
        "    height, width = gray.shape\n",
        "    s_thresh=(100, 255)\n",
        "    l_thresh=(120, 255)\n",
        "    #combined = ((grad_x == 1)  & (grad_y == 1) & (mag_binary == 1) & (dir_binary == 1))\n",
        "    grad_x = abs_sobel_thresh(gray, 'x', thresh=(10, 200))\n",
        "    dir_binary = dir_threshold(gray, thresh=(np.pi/6, np.pi/2))\n",
        "    combined = ((grad_x == 1) & (dir_binary == 1))\n",
        "    \n",
        "    # R & G thresholds so that yellow lanes are detected well.\n",
        "    color_threshold = 150\n",
        "    R = img[:,:,0]\n",
        "    G = img[:,:,1]\n",
        "    color_combined = np.zeros_like(R)\n",
        "    r_g_condition = (R > color_threshold) & (G > color_threshold)\n",
        "    \n",
        "    # Apply color threshold for better detection of yello and white lines in all environmental condition\n",
        "    hls = cv2.cvtColor(img, cv2.COLOR_RGB2HLS)\n",
        "    # Select S channel because it is usually the best performant\n",
        "    # for this task. R channel also performs similarly.\n",
        "    s_channel = hls[:,:,2] \n",
        "    l_channel = hls[:,:,1]\n",
        "    \n",
        "     # S channel performs well for detecting bright yellow and white lanes\n",
        "    s_condition = (s_channel > s_thresh[0]) & (s_channel <= s_thresh[1])\n",
        "    \n",
        "    # We put a threshold on the L channel to avoid pixels which have shadows and as a result darker.   \n",
        "    l_condition = (l_channel > l_thresh[0]) & (l_channel <= l_thresh[1])\n",
        "    \n",
        "    # combine all the thresholds\n",
        "    # A pixel should either be a yellowish or whiteish\n",
        "    # And it should also have a gradient, as per our thresholds\n",
        "    color_combined[(r_g_condition & l_condition) & (s_condition | combined)] = 1\n",
        "    \n",
        "    #binary_output[(s_channel >= thresh[0]) & (s_channel <= thresh[1])] = 1\n",
        "    # apply the region of interest mask\n",
        "    mask = np.zeros_like(color_combined)\n",
        "    region_of_interest_vertices = np.array([[0,height-1], [width/2, int(0.5*height)], [width-1, height-1]], dtype=np.int32)\n",
        "    cv2.fillPoly(mask, [region_of_interest_vertices], 1)\n",
        "    thresholded = cv2.bitwise_and(color_combined, mask)\n",
        "\n",
        "    return thresholded\n",
        "\n",
        "# Run the function\n",
        "combined = combine_thresh(img1)\n",
        "\n",
        "# Plot the result\n",
        "plt_images(img1, 'Source image', combined, 'Thresholds combined')"
      ],
      "metadata": {
        "id": "a6TvcLjqygrP"
      },
      "execution_count": null,
      "outputs": []
    },
    {
      "cell_type": "code",
      "source": [
        "def binary(img):\n",
        "    \n",
        "    thresholded = combine_thresh(img)\n",
        "    # Vertices extracted manually for performing a perspective transform\n",
        "    bottom_left = [220,720]\n",
        "    bottom_right = [1110, 720]\n",
        "    top_left = [570, 470]\n",
        "    top_right = [722, 470]\n",
        "\n",
        "    source = np.float32([bottom_left,bottom_right,top_right,top_left])\n",
        "\n",
        "    pts = np.array([bottom_left,bottom_right,top_right,top_left], np.int32)\n",
        "    pts = pts.reshape((-1,1,2))\n",
        "    copy = img.copy()\n",
        "    cv2.polylines(copy,[pts],True,(255,0,0), thickness=3)\n",
        "\n",
        "    # Destination points are chosen such that straight lanes appear more or less parallel in the transformed image.\n",
        "    bottom_left = [320,720]\n",
        "    bottom_right = [920, 720]\n",
        "    top_left = [320, 1]\n",
        "    top_right = [920, 1]\n",
        "    image_shape= img.shape\n",
        "    dst = np.float32([bottom_left,bottom_right,top_right,top_left])\n",
        "    M = cv2.getPerspectiveTransform(source, dst)\n",
        "    M_inv = cv2.getPerspectiveTransform(dst, source)\n",
        "    img_size = (image_shape[1], image_shape[0])\n",
        "\n",
        "    warped = cv2.warpPerspective(thresholded, M, img_size , flags=cv2.INTER_LINEAR)\n",
        "    return warped, M_inv"
      ],
      "metadata": {
        "id": "3MtGeRFB314g"
      },
      "execution_count": null,
      "outputs": []
    },
    {
      "cell_type": "code",
      "source": [
        "images = glob.glob('/content/drive/MyDrive/Project_data/test_images/*.jpg')\n",
        "\n",
        "#print names\n",
        "for i in range(len(images)):\n",
        "    print(\"Image \", i, \": \" ,images[i] )\n",
        "    \n",
        "#Randomly choosing a image\n",
        "choice = np.random.choice(len(images))\n",
        "\n",
        "#read image\n",
        "img = mpimg.imread(images[choice])\n",
        "\n"
      ],
      "metadata": {
        "id": "-wOPN5iM9NQC"
      },
      "execution_count": null,
      "outputs": []
    },
    {
      "cell_type": "code",
      "source": [
        "# Test Binary Function\n",
        "warped, M_inv = binary(img)\n",
        "f, (ax1, ax2) = plt.subplots(1, 2, figsize=(24, 9))\n",
        "f.tight_layout()\n",
        "ax1.imshow(img)\n",
        "ax1.set_title('Original Image', fontsize=50)\n",
        "ax2.imshow(warped, cmap='gray')\n",
        "ax2.set_title('Warped Image', fontsize=50)\n",
        "plt.subplots_adjust(left=0., right=1, top=0.9, bottom=0.)\n"
      ],
      "metadata": {
        "id": "NpdO_RtaAUtC"
      },
      "execution_count": null,
      "outputs": []
    },
    {
      "cell_type": "code",
      "source": [
        "histogram = np.sum(warped[warped.shape[0]//2:,:], axis=0)\n",
        "\n",
        "# Peak in the first half indicates the likely position of the left lane\n",
        "half_width = np.int(histogram.shape[0]/2)\n",
        "leftx_base = np.argmax(histogram[:half_width])\n",
        "\n",
        "# Peak in the second half indicates the likely position of the right lane\n",
        "rightx_base = np.argmax(histogram[half_width:]) + half_width\n",
        "# calculate vechile offset\n",
        "mid_lane=rightx_base- leftx_base\n",
        "offset= mid_lane-warped.shape[1]\n",
        "if(offset>0):\n",
        "  LorR=\"left\"\n",
        "elif(offset<0):\n",
        "  LorR=\"right\"\n",
        "\n",
        "\n",
        "\n",
        "print('Leftx Base = ', leftx_base,'Rightx_Base = ', rightx_base)\n",
        "# Plot the results\n",
        "plt.title('Histogram', fontsize=16)\n",
        "plt.xlabel('Pixel position')\n",
        "plt.ylabel('Counts')\n",
        "plt.plot(histogram);"
      ],
      "metadata": {
        "id": "9na9kZBrBLWa"
      },
      "execution_count": null,
      "outputs": []
    },
    {
      "cell_type": "code",
      "source": [
        "#Create an output image to draw on and  visualize the result\n",
        "out_img = np.dstack((warped, warped, warped))*255\n",
        "# Find the peak of the left and right halves of the histogram\n",
        "# These will be the starting point for the left and right lines\n",
        "midpoint = np.int(histogram.shape[0]/2)\n",
        "leftx_base = np.argmax(histogram[:midpoint])\n",
        "rightx_base = np.argmax(histogram[midpoint:]) + midpoint\n",
        "\n",
        "# Choose the number of sliding windows\n",
        "nwindows = 9\n",
        "# Set height of windows\n",
        "window_height = np.int(warped.shape[0]/nwindows)\n",
        "# Identify the x and y positions of all nonzero pixels in the image\n",
        "nonzero = warped.nonzero()\n",
        "nonzeroy = np.array(nonzero[0])\n",
        "nonzerox = np.array(nonzero[1])\n",
        "# Current positions to be updated for each window\n",
        "leftx_current = leftx_base\n",
        "rightx_current = rightx_base\n",
        "# Set the width of the windows +/- margin\n",
        "margin = 100\n",
        "# Set minimum number of pixels found to recenter window\n",
        "minpix = 50\n",
        "# Create empty lists to receive left and right lane pixel indices\n",
        "left_lane_inds = []\n",
        "right_lane_inds = []\n",
        "\n",
        "# Step through the windows one by one\n",
        "for window in range(nwindows):\n",
        "    # Identify window boundaries in x and y (and right and left)\n",
        "    win_y_low = warped.shape[0] - (window+1)*window_height\n",
        "    win_y_high = warped.shape[0] - window*window_height\n",
        "    win_xleft_low = leftx_current - margin\n",
        "    win_xleft_high = leftx_current + margin\n",
        "    win_xright_low = rightx_current - margin\n",
        "    win_xright_high = rightx_current + margin\n",
        "    # Draw the windows on the visualization image\n",
        "    cv2.rectangle(out_img,(win_xleft_low,win_y_low),(win_xleft_high,win_y_high),\n",
        "    (0,255,0), 2) \n",
        "    cv2.rectangle(out_img,(win_xright_low,win_y_low),(win_xright_high,win_y_high),\n",
        "    (0,255,0), 2) \n",
        "    # Identify the nonzero pixels in x and y within the window\n",
        "    good_left_inds = ((nonzeroy >= win_y_low) & (nonzeroy < win_y_high) & \n",
        "    (nonzerox >= win_xleft_low) &  (nonzerox < win_xleft_high)).nonzero()[0]\n",
        "    good_right_inds = ((nonzeroy >= win_y_low) & (nonzeroy < win_y_high) & \n",
        "    (nonzerox >= win_xright_low) &  (nonzerox < win_xright_high)).nonzero()[0]\n",
        "    # Append these indices to the lists\n",
        "    left_lane_inds.append(good_left_inds)\n",
        "    right_lane_inds.append(good_right_inds)\n",
        "    # If you found > minpix pixels, recenter next window on their mean position\n",
        "    if len(good_left_inds) > minpix:\n",
        "        leftx_current = np.int(np.mean(nonzerox[good_left_inds]))\n",
        "    if len(good_right_inds) > minpix:        \n",
        "        rightx_current = np.int(np.mean(nonzerox[good_right_inds]))\n",
        "\n",
        "# Concatenate the arrays of indices\n",
        "left_lane_inds = np.concatenate(left_lane_inds)\n",
        "right_lane_inds = np.concatenate(right_lane_inds)\n",
        "\n",
        "# Extract left and right line pixel positions\n",
        "leftx = nonzerox[left_lane_inds]\n",
        "lefty = nonzeroy[left_lane_inds] \n",
        "rightx = nonzerox[right_lane_inds]\n",
        "righty = nonzeroy[right_lane_inds] \n",
        "\n",
        "# Fit a second order polynomial to each\n",
        "left_fit = np.polyfit(lefty, leftx, 2)\n",
        "right_fit = np.polyfit(righty, rightx, 2)"
      ],
      "metadata": {
        "id": "8OUgKXWuBPQm"
      },
      "execution_count": null,
      "outputs": []
    },
    {
      "cell_type": "code",
      "source": [
        "# Generate x and y values for plotting\n",
        "ploty = np.linspace(0, warped.shape[0]-1, warped.shape[0] )\n",
        "left_fitx = left_fit[0]*ploty**2 + left_fit[1]*ploty + left_fit[2]\n",
        "right_fitx = right_fit[0]*ploty**2 + right_fit[1]*ploty + right_fit[2]\n",
        "\n",
        "out_img[nonzeroy[left_lane_inds], nonzerox[left_lane_inds]] = [255, 0, 0]\n",
        "out_img[nonzeroy[right_lane_inds], nonzerox[right_lane_inds]] = [0, 0, 255]\n",
        "plt.figure(figsize=(20,10));\n",
        "plt.imshow(out_img);\n",
        "plt.plot(left_fitx, ploty, color='Red');\n",
        "plt.plot(right_fitx, ploty, color='Red');\n",
        "plt.xlim(0, 1280);\n",
        "plt.ylim(720, 0);"
      ],
      "metadata": {
        "id": "LSu2CtsjNt1i"
      },
      "execution_count": null,
      "outputs": []
    },
    {
      "cell_type": "code",
      "source": [
        "# Assume you now have a new warped binary image \n",
        "# from the next frame of video (also called \"binary_warped\")\n",
        "# It's now much easier to find line pixels!\n",
        "nonzero = warped.nonzero()\n",
        "nonzeroy = np.array(nonzero[0])\n",
        "nonzerox = np.array(nonzero[1])\n",
        "margin = 100\n",
        "left_lane_inds = ((nonzerox > (left_fit[0]*(nonzeroy**2) + left_fit[1]*nonzeroy + \n",
        "left_fit[2] - margin)) & (nonzerox < (left_fit[0]*(nonzeroy**2) + \n",
        "left_fit[1]*nonzeroy + left_fit[2] + margin))) \n",
        "\n",
        "right_lane_inds = ((nonzerox > (right_fit[0]*(nonzeroy**2) + right_fit[1]*nonzeroy + \n",
        "right_fit[2] - margin)) & (nonzerox < (right_fit[0]*(nonzeroy**2) + \n",
        "right_fit[1]*nonzeroy + right_fit[2] + margin)))  \n",
        "\n",
        "# Again, extract left and right line pixel positions\n",
        "leftx = nonzerox[left_lane_inds]\n",
        "lefty = nonzeroy[left_lane_inds] \n",
        "rightx = nonzerox[right_lane_inds]\n",
        "righty = nonzeroy[right_lane_inds]\n",
        "# Fit a second order polynomial to each\n",
        "left_fit = np.polyfit(lefty, leftx, 2)\n",
        "right_fit = np.polyfit(righty, rightx, 2)\n",
        "# Generate x and y values for plotting\n",
        "ploty = np.linspace(0, warped.shape[0]-1, warped.shape[0] )\n",
        "left_fitx = left_fit[0]*ploty**2 + left_fit[1]*ploty + left_fit[2]\n",
        "right_fitx = right_fit[0]*ploty**2 + right_fit[1]*ploty + right_fit[2]"
      ],
      "metadata": {
        "id": "SFFGf2rFOWh6"
      },
      "execution_count": null,
      "outputs": []
    },
    {
      "cell_type": "code",
      "source": [
        "# Create an image to draw on and an image to show the selection window\n",
        "out_img = np.dstack((warped, warped, warped))*255\n",
        "window_img = np.zeros_like(out_img)\n",
        "# Color in left and right line pixels\n",
        "out_img[nonzeroy[left_lane_inds], nonzerox[left_lane_inds]] = [255, 0, 0]\n",
        "out_img[nonzeroy[right_lane_inds], nonzerox[right_lane_inds]] = [0, 0, 255]\n",
        "\n",
        "# Generate a polygon to illustrate the search window area\n",
        "# And recast the x and y points into usable format for cv2.fillPoly()\n",
        "left_line_window1 = np.array([np.transpose(np.vstack([left_fitx-margin, ploty]))])\n",
        "left_line_window2 = np.array([np.flipud(np.transpose(np.vstack([left_fitx+margin, \n",
        "                              ploty])))])\n",
        "left_line_pts = np.hstack((left_line_window1, left_line_window2))\n",
        "right_line_window1 = np.array([np.transpose(np.vstack([right_fitx-margin, ploty]))])\n",
        "right_line_window2 = np.array([np.flipud(np.transpose(np.vstack([right_fitx+margin, \n",
        "                              ploty])))])\n",
        "right_line_pts = np.hstack((right_line_window1, right_line_window2))\n",
        "\n",
        "# Draw the lane onto the warped blank image\n",
        "cv2.fillPoly(window_img, np.int_([left_line_pts]), (0,255, 0))\n",
        "cv2.fillPoly(window_img, np.int_([right_line_pts]), (0,255, 0))\n",
        "result = cv2.addWeighted(out_img, 1, window_img, 0.3, 0)\n",
        "plt.figure(figsize=(20,10))\n",
        "plt.imshow(result)\n",
        "plt.plot(left_fitx, ploty, color='RED')\n",
        "plt.plot(right_fitx, ploty, color='red')\n",
        "plt.xlim(0, 1280)\n",
        "plt.ylim(720, 0)"
      ],
      "metadata": {
        "id": "wxZRiNF_OdPW"
      },
      "execution_count": null,
      "outputs": []
    },
    {
      "cell_type": "code",
      "source": [
        "def fitlines(warped):\n",
        "    # Assuming you have created a warped binary image called \"binary_warped\"\n",
        "    # Take a histogram of the bottom half of the image\n",
        "    histogram = np.sum(warped[int(warped.shape[0]/2):,:], axis=0)\n",
        "    # Create an output image to draw on and  visualize the result\n",
        "    out_img = np.dstack((warped, warped, warped))*255\n",
        "    \n",
        "   \n",
        "    # Find the peak of the left and right halves of the histogram\n",
        "    # These will be the starting point for the left and right lines\n",
        "    midpoint = np.int(histogram.shape[0]/2)\n",
        "    leftx_base = np.argmax(histogram[:midpoint])\n",
        "    rightx_base = np.argmax(histogram[midpoint:]) + midpoint\n",
        "\n",
        "    # Choose the number of sliding windows\n",
        "    nwindows = 9\n",
        "    # Set height of windows\n",
        "    window_height = np.int(warped.shape[0]/nwindows)\n",
        "    # Identify the x and y positions of all nonzero pixels in the image\n",
        "    nonzero = warped.nonzero()\n",
        "    nonzeroy = np.array(nonzero[0])\n",
        "    nonzerox = np.array(nonzero[1])\n",
        "    # Current positions to be updated for each window\n",
        "    leftx_current = leftx_base\n",
        "    rightx_current = rightx_base\n",
        "    # Set the width of the windows +/- margin\n",
        "    margin = 100\n",
        "    # Set minimum number of pixels found to recenter window\n",
        "    minpix = 50\n",
        "    # Create empty lists to receive left and right lane pixel indices\n",
        "    left_lane_inds = []\n",
        "    right_lane_inds = []\n",
        "\n",
        "    # Step through the windows one by one\n",
        "    for window in range(nwindows):\n",
        "        # Identify window boundaries in x and y (and right and left)\n",
        "        win_y_low = warped.shape[0] - (window+1)*window_height\n",
        "        win_y_high = warped.shape[0] - window*window_height\n",
        "        win_xleft_low = leftx_current - margin\n",
        "        win_xleft_high = leftx_current + margin\n",
        "        win_xright_low = rightx_current - margin\n",
        "        win_xright_high = rightx_current + margin\n",
        "        # Draw the windows on the visualization image\n",
        "        cv2.rectangle(out_img,(win_xleft_low,win_y_low),(win_xleft_high,win_y_high),(0,255,0), 2) \n",
        "        cv2.rectangle(out_img,(win_xright_low,win_y_low),(win_xright_high,win_y_high),(0,255,0), 2) \n",
        "        # Identify the nonzero pixels in x and y within the window\n",
        "        good_left_inds = ((nonzeroy >= win_y_low) & (nonzeroy < win_y_high) & (nonzerox >= win_xleft_low) & (nonzerox < win_xleft_high)).nonzero()[0]\n",
        "        good_right_inds = ((nonzeroy >= win_y_low) & (nonzeroy < win_y_high) & (nonzerox >= win_xright_low) & (nonzerox < win_xright_high)).nonzero()[0]\n",
        "        # Append these indices to the lists\n",
        "        left_lane_inds.append(good_left_inds)\n",
        "        right_lane_inds.append(good_right_inds)\n",
        "        # If you found > minpix pixels, recenter next window on their mean position\n",
        "        if len(good_left_inds) > minpix:\n",
        "            leftx_current = np.int(np.mean(nonzerox[good_left_inds]))\n",
        "        if len(good_right_inds) > minpix:        \n",
        "            rightx_current = np.int(np.mean(nonzerox[good_right_inds]))\n",
        "\n",
        "    # Concatenate the arrays of indices\n",
        "    left_lane_inds = np.concatenate(left_lane_inds)\n",
        "    right_lane_inds = np.concatenate(right_lane_inds)\n",
        "\n",
        "    # Extract left and right line pixel positions\n",
        "    leftx = nonzerox[left_lane_inds]\n",
        "    lefty = nonzeroy[left_lane_inds] \n",
        "    rightx = nonzerox[right_lane_inds]\n",
        "    righty = nonzeroy[right_lane_inds] \n",
        "    \n",
        "    \n",
        "    # Fit a second order polynomial to each\n",
        "    if len(leftx) == 0:\n",
        "        left_fit =[]\n",
        "    else:\n",
        "        left_fit = np.polyfit(lefty, leftx, 2)\n",
        "    \n",
        "    if len(rightx) == 0:\n",
        "        right_fit =[]\n",
        "    else:\n",
        "        right_fit = np.polyfit(righty, rightx, 2)\n",
        "    \n",
        "\n",
        "    \n",
        "    out_img[nonzeroy[left_lane_inds], nonzerox[left_lane_inds]] = [255, 0, 0]\n",
        "    out_img[nonzeroy[right_lane_inds], nonzerox[right_lane_inds]] = [0, 0, 255]\n",
        "    \n",
        "    ploty = np.linspace(0, warped.shape[0]-1, warped.shape[0] )\n",
        "\n",
        "    return left_fit, right_fit,out_img, lefty, leftx, righty, rightx, ploty"
      ],
      "metadata": {
        "id": "3YXP_XymOwEn"
      },
      "execution_count": null,
      "outputs": []
    },
    {
      "cell_type": "code",
      "source": [
        "# Test the Fitlines Function\n",
        "left_fit, right_fit, out_img, lefty, leftx, righty, rightx, ploty = fitlines(warped)\n",
        "\n",
        "plt.figure(figsize=(20,10))\n",
        "plt.imshow(out_img);\n"
      ],
      "metadata": {
        "id": "7p6pAl06OzLg"
      },
      "execution_count": null,
      "outputs": []
    },
    {
      "cell_type": "code",
      "source": [
        "def lane_curvatures(lefty, leftx, righty, rightx, ploty):\n",
        "    \n",
        "    # Define conversions in x and y from pixels space to meters\n",
        "    ym_per_pix = 30/720 # meters per pixel in y dimension\n",
        "    xm_per_pix = 3.7/730 # meters per pixel in x dimension\n",
        "    \n",
        "    y_eval = np.max(ploty)\n",
        "\n",
        "    # Fit new polynomials to x,y in world space\n",
        "    left_fit_cr = np.polyfit(lefty*ym_per_pix, leftx*xm_per_pix, 2)\n",
        "    right_fit_cr = np.polyfit(righty*ym_per_pix, rightx*xm_per_pix, 2)\n",
        "    # Calculate the new radii of curvature\n",
        "    left_curverad = ((1 + (2*left_fit_cr[0]*y_eval*ym_per_pix + left_fit_cr[1])**2)**1.5) / np.absolute(2*left_fit_cr[0])\n",
        "    right_curverad = ((1 + (2*right_fit_cr[0]*y_eval*ym_per_pix + right_fit_cr[1])**2)**1.5) / np.absolute(2*right_fit_cr[0])\n",
        "\n",
        "    return left_curverad, right_curverad\n",
        "\n",
        "#Testing Function\n",
        "left_curverad, right_curverad = lane_curvatures(lefty, leftx, righty, rightx, ploty)\n",
        "    \n",
        "# Now our radius of curvature is in meters\n",
        "print(left_curverad, 'm', right_curverad, 'm')"
      ],
      "metadata": {
        "id": "rRzzlku5O_6V"
      },
      "execution_count": null,
      "outputs": []
    },
    {
      "cell_type": "code",
      "source": [
        "def draw_lane(img, warped, left_fit, right_fit, ploty, left_curverad, right_curverad, M_inv,offset,LorR):\n",
        "\n",
        "    warp_zero = np.zeros_like(warped).astype(np.uint8)\n",
        "    color_warp = np.dstack((warp_zero, warp_zero, warp_zero))\n",
        "    \n",
        "    left_fitx = left_fit[0]*ploty**2 + left_fit[1]*ploty + left_fit[2]\n",
        "    right_fitx = right_fit[0]*ploty**2 + right_fit[1]*ploty + right_fit[2]\n",
        "\n",
        "    # Recast the x and y points into usable format for cv2.fillPoly()\n",
        "    pts_left = np.array([np.transpose(np.vstack([left_fitx, ploty]))])\n",
        "    pts_right = np.array([np.flipud(np.transpose(np.vstack([right_fitx, ploty])))])\n",
        "    pts = np.hstack((pts_left, pts_right))\n",
        "\n",
        "    # Draw the lane onto the warped blank image\n",
        "    cv2.fillPoly(color_warp, np.int_([pts]), (0,255, 0))\n",
        "\n",
        "    # Warp the blank back to original image space using inverse perspective matrix (Minv)\n",
        "    newwarp = cv2.warpPerspective(color_warp, M_inv, (img.shape[1], img.shape[0])) \n",
        "    \n",
        "    # Creating Text and set font parameters\n",
        "    TextL = \" Raduis of curvature is \" + str(int((int(left_curverad)+int(right_curverad))*7/(22*4))) + \" m\"\n",
        "    xm_per_pix = 3.7/730\n",
        "    absoffset=abs(offset*xm_per_pix )\n",
        "    off= \" The vechile is \"+ str(absoffset) + LorR +\" of Center\"\n",
        "    fontScale=1.5\n",
        "    thickness=3\n",
        "    fontFace = cv2.FONT_HERSHEY_SIMPLEX\n",
        "\n",
        "    # Using CV2 putText to write text into images\n",
        "    cv2.putText(newwarp, TextL, (10,100), fontFace, fontScale,(255,255,255), thickness,  lineType = cv2.LINE_AA)\n",
        "    cv2.putText(newwarp, off, (10,200), fontFace, fontScale,(255,255,255), thickness,  lineType = cv2.LINE_AA)\n",
        "    \n",
        "\n",
        "    # Combine the result with the original image\n",
        "    result = cv2.addWeighted(img, 1, newwarp, 0.3, 0)\n",
        "    \n",
        "    return result"
      ],
      "metadata": {
        "id": "o9Mj0nrgPGwv"
      },
      "execution_count": null,
      "outputs": []
    },
    {
      "cell_type": "code",
      "source": [
        "marked_lane = draw_lane(img, warped, left_fit, right_fit, ploty, left_curverad, right_curverad, M_inv,offset,LorR)\n",
        "\n",
        "plt.figure(figsize=(20,10))\n",
        "plt.imshow(marked_lane);"
      ],
      "metadata": {
        "id": "QgczoSNMPNZA"
      },
      "execution_count": null,
      "outputs": []
    },
    {
      "cell_type": "code",
      "source": [
        "def software_pipeline(img):\n",
        "    \n",
        "    # Binary Undistorced Warped Image\n",
        "    binary_warped, M_inv = binary(img)\n",
        "    \n",
        "    # Fit the lines\n",
        "    left_fit, right_fit,out_img, lefty, leftx, righty, rightx, ploty = fitlines(binary_warped)    \n",
        "    \n",
        "    # Calulating the left and right lines curvatures\n",
        "    left_curverad, right_curverad = lane_curvatures(lefty, leftx, righty, rightx, ploty)\n",
        "    \n",
        "    # Draw Lane between road lines\n",
        "    processed_lane = draw_lane(img, binary_warped, left_fit, right_fit, ploty, left_curverad, right_curverad, M_inv)\n",
        "\n",
        "    return processed_lane"
      ],
      "metadata": {
        "id": "ea0TnRppQh32"
      },
      "execution_count": null,
      "outputs": []
    },
    {
      "cell_type": "code",
      "source": [
        "#Select a random image to test the sodtware pipeline\n",
        "random_image = np.random.choice(len(images))\n",
        "\n",
        "img = mpimg.imread(images[0])\n",
        "processed_image = software_pipeline(img)\n",
        "plt.figure(figsize=(25,10))\n",
        "plt.imshow(processed_image);\n",
        "#plt.savefig('writeup_images/final_output_image.png', dpi=300, bbox_inches='tight')"
      ],
      "metadata": {
        "id": "nqeYk-m9QmWK"
      },
      "execution_count": null,
      "outputs": []
    },
    {
      "cell_type": "code",
      "source": [
        "#Create video file pipeline\n",
        "output = '/content/drive/MyDrive/Project_data/output_challenge_video.mp4'\n",
        "clip1 = VideoFileClip(\"/content/drive/MyDrive/Project_data/challenge_video.mp4\")\n",
        "#clip1 = VideoFileClip(\"project_video.mp4\").subclip(1,2)\n",
        "\n",
        "out_clip = clip1.fl_image(software_pipeline) #NOTE: this function expects color images!!\n",
        "%time out_clip.write_videofile(output, audio=False)\n",
        "\n",
        "HTML(\"\"\"\n",
        "<video  width=\"960\" height=\"540\" controls>\n",
        "  <source src=\"{0}\">\n",
        "</video>\n",
        "\"\"\".format(output))"
      ],
      "metadata": {
        "id": "6L52wvagQsXd"
      },
      "execution_count": null,
      "outputs": []
    },
    {
      "cell_type": "code",
      "source": [
        "#Create video file pipeline\n",
        "output = '/content/drive/MyDrive/Project_data/output_harder_challenge_video.mp4'\n",
        "clip1 = VideoFileClip(\"/content/drive/MyDrive/Project_data/harder_challenge_video.mp4\")\n",
        "#clip1 = VideoFileClip(\"project_video.mp4\").subclip(1,2)\n",
        "\n",
        "out_clip = clip1.fl_image(software_pipeline) #NOTE: this function expects color images!!\n",
        "%time out_clip.write_videofile(output, audio=False)\n",
        "\n",
        "HTML(\"\"\"\n",
        "<video  width=\"960\" height=\"540\" controls>\n",
        "  <source src=\"{0}\">\n",
        "</video>\n",
        "\"\"\".format(output))"
      ],
      "metadata": {
        "id": "A-sUaEjHT5gk"
      },
      "execution_count": null,
      "outputs": []
    }
  ]
}